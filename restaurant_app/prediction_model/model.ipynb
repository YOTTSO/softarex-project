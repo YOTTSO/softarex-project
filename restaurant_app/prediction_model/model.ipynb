{
 "cells": [
  {
   "cell_type": "code",
   "id": "initial_id",
   "metadata": {
    "collapsed": true,
    "ExecuteTime": {
     "end_time": "2024-06-15T08:55:18.379376Z",
     "start_time": "2024-06-15T08:55:18.376584Z"
    }
   },
   "source": [
    "import pandas as pd\n",
    "import datetime\n",
    "from sklearn.metrics import mean_squared_error, mean_absolute_error\n",
    "from sklearn.preprocessing import MinMaxScaler, LabelEncoder\n",
    "import pickle\n",
    "from xgboost import XGBRegressor\n",
    "import matplotlib.pyplot as plt\n",
    "import seaborn as sns"
   ],
   "execution_count": 18,
   "outputs": []
  },
  {
   "metadata": {
    "ExecuteTime": {
     "end_time": "2024-06-15T08:55:18.390663Z",
     "start_time": "2024-06-15T08:55:18.386892Z"
    }
   },
   "cell_type": "code",
   "source": [
    "def replace_open_dates(df):\n",
    "    df['Open Date'] = pd.to_datetime(df['Open Date'], format='%m/%d/%Y')\n",
    "    today = datetime.date.today()\n",
    "    for i in range(len(df)):\n",
    "        df['Open Date'][i] = (today - df['Open Date'][i].date()).days\n",
    "    return df"
   ],
   "id": "5c49aef0be234037",
   "execution_count": 19,
   "outputs": []
  },
  {
   "metadata": {
    "ExecuteTime": {
     "end_time": "2024-06-15T08:55:19.784618Z",
     "start_time": "2024-06-15T08:55:18.391420Z"
    }
   },
   "cell_type": "code",
   "source": [
    "data_train = pd.read_csv(\"datasets/train.csv\")\n",
    "data_test = pd.read_csv(\"datasets/test.csv\")\n",
    "y_test = pd.read_csv(\"datasets/sampleSubmission.csv\")[\"Prediction\"]\n",
    "data_train = replace_open_dates(data_train)\n",
    "data_test = replace_open_dates(data_test)\n",
    "\n",
    "for i in range(1, 38):\n",
    "    column_name = f'Points{i}'\n",
    "    data_train[column_name] = data_train[column_name].astype(float)\n",
    "    data_test[column_name] = data_test[column_name].astype(float)\n",
    "\n",
    "X_train = data_train[[\"Open Date\", \"City\", \"Type\", \"Points1\", \"Points2\", \"Points3\", \"Points5\", \"Points6\",\n",
    "                      \"Points7\", \"Points11\", \"Points14\", \"Points21\", \"Points24\", \"Points26\", \"Points37\"]]\n",
    "y_train = data_train.revenue\n",
    "\n",
    "X_test = data_test[[\"Open Date\", \"City\", \"Type\", \"Points1\", \"Points2\", \"Points3\", \"Points5\", \"Points6\",\n",
    "                      \"Points7\", \"Points11\", \"Points14\", \"Points21\", \"Points24\", \"Points26\", \"Points37\"]]"
   ],
   "id": "1765bcf2869d0048",
   "execution_count": 20,
   "outputs": []
  },
  {
   "metadata": {
    "ExecuteTime": {
     "end_time": "2024-06-15T08:55:20.169930Z",
     "start_time": "2024-06-15T08:55:19.784618Z"
    }
   },
   "cell_type": "code",
   "source": [
    "\n",
    "\n",
    "X_all = pd.concat([X_train, X_test])\n",
    "\n",
    "label_encoder_city = LabelEncoder()\n",
    "label_encoder_type = LabelEncoder()\n",
    "X_all['City'] = label_encoder_city.fit_transform(X_all['City'])\n",
    "X_all['Type'] = label_encoder_type.fit_transform(X_all['Type'])\n",
    "\n",
    "\n",
    "X_train = X_all[:len(X_train)]\n",
    "X_test = X_all[len(X_train):]\n",
    "\n",
    "correlations = X_train.corrwith(data_train['revenue'])\n",
    "correlations_df = pd.DataFrame({'Correlation': correlations})\n",
    "correlations_df = correlations_df.sort_values(by='Correlation', ascending=False)\n",
    "plt.figure(figsize=(12, 10))\n",
    "sns.heatmap(correlations_df.T, annot=True, cmap='coolwarm', fmt=\".2f\")\n",
    "plt.title(\"Корреляция признаков с revenue\")\n",
    "plt.show()\n",
    "\n",
    "scaler = MinMaxScaler()\n",
    "X_train = scaler.fit_transform(X_train)\n",
    "X_test = scaler.transform(X_test)\n"
   ],
   "id": "3cff38245405f74d",
   "execution_count": 21,
   "outputs": []
  },
  {
   "metadata": {
    "ExecuteTime": {
     "end_time": "2024-06-15T08:55:20.768609Z",
     "start_time": "2024-06-15T08:55:20.170684Z"
    }
   },
   "cell_type": "code",
   "source": [
    "from sklearn.ensemble import RandomForestRegressor\n",
    "\n",
    "model = XGBRegressor(objective='reg:squarederror',\n",
    "                    n_estimators=1000,\n",
    "                    max_depth=7,\n",
    "                    learning_rate=0.03,\n",
    "                    gamma=0.1)\n",
    "\n",
    "model.fit(X_train, y_train,  eval_set=[(X_train, y_train)],\n",
    "          eval_metric='rmse', verbose=True, early_stopping_rounds=7)\n",
    "\n",
    "evals_result = model.evals_result()\n",
    "rmse = evals_result['validation_0']['rmse'][-1]\n",
    "print(f\"Корневая среднеквадратичная ошибка (RMSE): {rmse}\")\n",
    "\n",
    "with open('model.pkl', 'wb') as file:\n",
    "    pickle.dump([model, scaler, label_encoder_city, label_encoder_type], file)"
   ],
   "id": "2d0c1e15ea44b344",
   "execution_count": 22,
   "outputs": []
  },
  {
   "metadata": {
    "ExecuteTime": {
     "end_time": "2024-06-15T08:55:23.120492Z",
     "start_time": "2024-06-15T08:55:20.770059Z"
    }
   },
   "cell_type": "code",
   "source": [
    "predictions = model.predict(X_test)\n",
    "predictions = predictions.astype(int)\n",
    "print(predictions)"
   ],
   "id": "aef769705e4a30bf",
   "execution_count": 23,
   "outputs": []
  },
  {
   "metadata": {
    "ExecuteTime": {
     "end_time": "2024-06-15T08:55:23.435973Z",
     "start_time": "2024-06-15T08:55:23.121248Z"
    }
   },
   "cell_type": "code",
   "source": [
    "mse = mean_squared_error(y_test, predictions)\n",
    "mae = mean_absolute_error(y_test, predictions)\n",
    "\n",
    "print(f\"Среднеквадратичная ошибка (MSE): {mse}\")\n",
    "print(f\"Средняя абсолютная ошибка (MAE): {mae}\")\n",
    "\n",
    "plt.figure(figsize=(10, 6))\n",
    "plt.subplot(2, 1, 1)\n",
    "plt.scatter(y_test, predictions)\n",
    "plt.xlabel(\"Фактические значения\")\n",
    "plt.ylabel(\"Прогнозы\")\n",
    "plt.title(\"Сравнение фактических значений и прогнозов\")\n",
    "\n",
    "plt.tight_layout()\n",
    "plt.show()\n"
   ],
   "id": "f840b894c8ebd0b1",
   "execution_count": 24,
   "outputs": []
  }
 ],
 "metadata": {
  "kernelspec": {
   "display_name": "Python 3",
   "language": "python",
   "name": "python3"
  },
  "language_info": {
   "codemirror_mode": {
    "name": "ipython",
    "version": 2
   },
   "file_extension": ".py",
   "mimetype": "text/x-python",
   "name": "python",
   "nbconvert_exporter": "python",
   "pygments_lexer": "ipython2",
   "version": "2.7.6"
  }
 },
 "nbformat": 4,
 "nbformat_minor": 5
}
